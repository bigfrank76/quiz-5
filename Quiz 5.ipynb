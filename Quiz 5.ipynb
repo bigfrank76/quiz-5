{
 "cells": [
  {
   "cell_type": "markdown",
   "metadata": {},
   "source": [
    "•\tThe purpose of the first row is to identify the data of three companies Apple, Microsoft and IBM.\n",
    "•\tThe columns represent the stocks prices of three companies.\n",
    "o\tDate means the date of the stock prices (date type)\n",
    "o\tHigh means the highest stock price of that day (float)\n",
    "o\tLow means the lowest stock price of that day (float)\n",
    "o\tClose means the stock price of that day (float)\n",
    "o\tVolume means the number of stocks (integer)\n"
   ]
  },
  {
   "cell_type": "code",
   "execution_count": 1,
   "metadata": {},
   "outputs": [],
   "source": [
    "import pandas as pd\n",
    "import numpy as np\n",
    "import matplotlib.pyplot as plt\n"
   ]
  },
  {
   "cell_type": "code",
   "execution_count": 7,
   "metadata": {},
   "outputs": [
    {
     "data": {
      "text/html": [
       "<div>\n",
       "<style scoped>\n",
       "    .dataframe tbody tr th:only-of-type {\n",
       "        vertical-align: middle;\n",
       "    }\n",
       "\n",
       "    .dataframe tbody tr th {\n",
       "        vertical-align: top;\n",
       "    }\n",
       "\n",
       "    .dataframe thead th {\n",
       "        text-align: right;\n",
       "    }\n",
       "</style>\n",
       "<table border=\"1\" class=\"dataframe\">\n",
       "  <thead>\n",
       "    <tr style=\"text-align: right;\">\n",
       "      <th></th>\n",
       "      <th>high</th>\n",
       "      <th>low</th>\n",
       "      <th>close</th>\n",
       "      <th>volume</th>\n",
       "    </tr>\n",
       "    <tr>\n",
       "      <th>date</th>\n",
       "      <th></th>\n",
       "      <th></th>\n",
       "      <th></th>\n",
       "      <th></th>\n",
       "    </tr>\n",
       "  </thead>\n",
       "  <tbody>\n",
       "    <tr>\n",
       "      <th>1986-03-13</th>\n",
       "      <td>0.1026</td>\n",
       "      <td>0.0887</td>\n",
       "      <td>0.0974</td>\n",
       "      <td>30758400.0</td>\n",
       "    </tr>\n",
       "    <tr>\n",
       "      <th>1986-03-14</th>\n",
       "      <td>0.1026</td>\n",
       "      <td>0.0974</td>\n",
       "      <td>0.1008</td>\n",
       "      <td>7852896.0</td>\n",
       "    </tr>\n",
       "    <tr>\n",
       "      <th>1986-03-17</th>\n",
       "      <td>0.1035</td>\n",
       "      <td>0.1008</td>\n",
       "      <td>0.1026</td>\n",
       "      <td>33036768.0</td>\n",
       "    </tr>\n",
       "    <tr>\n",
       "      <th>1986-03-18</th>\n",
       "      <td>0.1035</td>\n",
       "      <td>0.0991</td>\n",
       "      <td>0.1000</td>\n",
       "      <td>66403296.0</td>\n",
       "    </tr>\n",
       "    <tr>\n",
       "      <th>1986-03-19</th>\n",
       "      <td>0.1008</td>\n",
       "      <td>0.0974</td>\n",
       "      <td>0.0982</td>\n",
       "      <td>47846304.0</td>\n",
       "    </tr>\n",
       "  </tbody>\n",
       "</table>\n",
       "</div>"
      ],
      "text/plain": [
       "              high     low   close      volume\n",
       "date                                          \n",
       "1986-03-13  0.1026  0.0887  0.0974  30758400.0\n",
       "1986-03-14  0.1026  0.0974  0.1008   7852896.0\n",
       "1986-03-17  0.1035  0.1008  0.1026  33036768.0\n",
       "1986-03-18  0.1035  0.0991  0.1000  66403296.0\n",
       "1986-03-19  0.1008  0.0974  0.0982  47846304.0"
      ]
     },
     "execution_count": 7,
     "metadata": {},
     "output_type": "execute_result"
    }
   ],
   "source": [
    "# loading the file to the dataFrames\n",
    "# source_data = pd.read_csv(\"AAPL_MSFT_IBM.csv\")\n",
    "aapl = pd.read_csv(\"AAPL_MSFT_IBM.csv\",usecols=[0,1,2,3,4],parse_dates=True,header=1,index_col=0,names=[\"date\",\"high\",\"low\",\"close\",\"volume\"])\n",
    "msft = pd.read_csv(\"AAPL_MSFT_IBM.csv\",usecols=[5,6,7,8,9],parse_dates=True,header=1,index_col=0,names=[\"date\",\"high\",\"low\",\"close\",\"volume\"])\n",
    "ibm = pd.read_csv(\"AAPL_MSFT_IBM.csv\",usecols=[10,11,12,13,14],parse_dates=True,header=1,index_col=0,names=[\"date\",\"high\",\"low\",\"close\",\"volume\"])\n",
    "# aapl = pd.read_csv(\"AAPL_MSFT_IBM.csv\")\n",
    "# aapl = source_data.iloc[:,0:5]\n",
    "# msft = source_data.iloc[:,5:10]\n",
    "# ibm = source_data.iloc[:,10:16]\n",
    "# aapl.columns = [\"date\",\"high\",\"low\",\"close\",\"volume\"]\n",
    "msft.head()\n",
    "# ibm.head()\n",
    "# aapl.head()"
   ]
  },
  {
   "cell_type": "code",
   "execution_count": 8,
   "metadata": {},
   "outputs": [
    {
     "data": {
      "image/png": "[encoded data removed]",
      "text/plain": [
       "<Figure size 432x288 with 1 Axes>"
      ]
     },
     "metadata": {},
     "output_type": "display_data"
    }
   ],
   "source": [
    "aapl_plot = plt.plot(aapl[\"close\"],label=\"Apple\")\n",
    "msft_plot = plt.plot(msft[\"close\"],label=\"Microsoft\")\n",
    "ibm_plot = plt.plot(ibm[\"close\"],label=\"IBM\")\n",
    "plt.ylabel('Price per Share')\n",
    "plt.legend()\n",
    "plt.show()"
   ]
  },
  {
   "cell_type": "code",
   "execution_count": 9,
   "metadata": {},
   "outputs": [
    {
     "data": {
      "text/html": [
       "<div>\n",
       "<style scoped>\n",
       "    .dataframe tbody tr th:only-of-type {\n",
       "        vertical-align: middle;\n",
       "    }\n",
       "\n",
       "    .dataframe tbody tr th {\n",
       "        vertical-align: top;\n",
       "    }\n",
       "\n",
       "    .dataframe thead th {\n",
       "        text-align: right;\n",
       "    }\n",
       "</style>\n",
       "<table border=\"1\" class=\"dataframe\">\n",
       "  <thead>\n",
       "    <tr style=\"text-align: right;\">\n",
       "      <th></th>\n",
       "      <th>high</th>\n",
       "      <th>low</th>\n",
       "      <th>close</th>\n",
       "      <th>volume</th>\n",
       "      <th>fluctuation</th>\n",
       "    </tr>\n",
       "    <tr>\n",
       "      <th>date</th>\n",
       "      <th></th>\n",
       "      <th></th>\n",
       "      <th></th>\n",
       "      <th></th>\n",
       "      <th></th>\n",
       "    </tr>\n",
       "  </thead>\n",
       "  <tbody>\n",
       "    <tr>\n",
       "      <th>1980-01-02</th>\n",
       "      <td>16.1250</td>\n",
       "      <td>15.6250</td>\n",
       "      <td>15.6250</td>\n",
       "      <td>1648000</td>\n",
       "      <td>3.200000</td>\n",
       "    </tr>\n",
       "    <tr>\n",
       "      <th>1980-01-03</th>\n",
       "      <td>15.8750</td>\n",
       "      <td>15.3125</td>\n",
       "      <td>15.8750</td>\n",
       "      <td>2441200</td>\n",
       "      <td>3.543307</td>\n",
       "    </tr>\n",
       "    <tr>\n",
       "      <th>1980-01-04</th>\n",
       "      <td>15.9375</td>\n",
       "      <td>15.7500</td>\n",
       "      <td>15.8438</td>\n",
       "      <td>1891200</td>\n",
       "      <td>1.183428</td>\n",
       "    </tr>\n",
       "    <tr>\n",
       "      <th>1980-01-07</th>\n",
       "      <td>15.8438</td>\n",
       "      <td>15.6563</td>\n",
       "      <td>15.7813</td>\n",
       "      <td>1415600</td>\n",
       "      <td>1.188115</td>\n",
       "    </tr>\n",
       "    <tr>\n",
       "      <th>1980-01-08</th>\n",
       "      <td>16.8750</td>\n",
       "      <td>15.6563</td>\n",
       "      <td>16.8438</td>\n",
       "      <td>2837600</td>\n",
       "      <td>7.235303</td>\n",
       "    </tr>\n",
       "  </tbody>\n",
       "</table>\n",
       "</div>"
      ],
      "text/plain": [
       "               high      low    close   volume  fluctuation\n",
       "date                                                       \n",
       "1980-01-02  16.1250  15.6250  15.6250  1648000     3.200000\n",
       "1980-01-03  15.8750  15.3125  15.8750  2441200     3.543307\n",
       "1980-01-04  15.9375  15.7500  15.8438  1891200     1.183428\n",
       "1980-01-07  15.8438  15.6563  15.7813  1415600     1.188115\n",
       "1980-01-08  16.8750  15.6563  16.8438  2837600     7.235303"
      ]
     },
     "execution_count": 9,
     "metadata": {},
     "output_type": "execute_result"
    }
   ],
   "source": [
    "aapl[\"fluctuation\"] = 100*(aapl['high']-aapl['low'])/aapl['close']\n",
    "msft[\"fluctuation\"] = 100*(msft['high']-msft['low'])/msft['close']\n",
    "ibm[\"fluctuation\"] = 100*(ibm['high']-ibm['low'])/ibm['close']\n",
    "ibm.head()"
   ]
  },
  {
   "cell_type": "code",
   "execution_count": 10,
   "metadata": {},
   "outputs": [
    {
     "data": {
      "image/png": "[encoded data removed]",
      "text/plain": [
       "<Figure size 432x288 with 1 Axes>"
      ]
     },
     "metadata": {},
     "output_type": "display_data"
    }
   ],
   "source": [
    "aapl_plot = plt.plot(aapl[\"fluctuation\"],label=\"Apple\")\n",
    "msft_plot = plt.plot(msft[\"fluctuation\"],label=\"Microsoft\")\n",
    "ibm_plot = plt.plot(ibm[\"fluctuation\"],label=\"IBM\")\n",
    "plt.ylabel('fluctations')\n",
    "plt.legend()\n",
    "plt.show()"
   ]
  },
  {
   "cell_type": "code",
   "execution_count": 11,
   "metadata": {},
   "outputs": [
    {
     "name": "stdout",
     "output_type": "stream",
     "text": [
      "1987-10-19 00:00:00\n"
     ]
    },
    {
     "name": "stderr",
     "output_type": "stream",
     "text": [
      "C:\\Users\\Frank\\Anaconda3\\lib\\site-packages\\numpy\\core\\fromnumeric.py:52: FutureWarning: 'argmax' is deprecated, use 'idxmax' instead. The behavior of 'argmax'\n",
      "will be corrected to return the positional maximum in the future.\n",
      "Use 'series.values.argmax' to get the position of the maximum now.\n",
      "  return getattr(obj, method)(*args, **kwds)\n"
     ]
    }
   ],
   "source": [
    "appl_price= np.argmax(aapl[\"fluctuation\"])\n",
    "print(appl_price)"
   ]
  },
  {
   "cell_type": "markdown",
   "metadata": {},
   "source": [
    "STOCK MARKET CRASH, BOTH APPLE AND GOOGLE TANKED"
   ]
  },
  {
   "cell_type": "code",
   "execution_count": 12,
   "metadata": {},
   "outputs": [
    {
     "data": {
      "image/png": "[encoded data removed]",
      "text/plain": [
       "<Figure size 432x288 with 1 Axes>"
      ]
     },
     "metadata": {},
     "output_type": "display_data"
    },
    {
     "data": {
      "text/html": [
       "<div>\n",
       "<style scoped>\n",
       "    .dataframe tbody tr th:only-of-type {\n",
       "        vertical-align: middle;\n",
       "    }\n",
       "\n",
       "    .dataframe tbody tr th {\n",
       "        vertical-align: top;\n",
       "    }\n",
       "\n",
       "    .dataframe thead th {\n",
       "        text-align: right;\n",
       "    }\n",
       "</style>\n",
       "<table border=\"1\" class=\"dataframe\">\n",
       "  <thead>\n",
       "    <tr style=\"text-align: right;\">\n",
       "      <th></th>\n",
       "      <th>high</th>\n",
       "      <th>low</th>\n",
       "      <th>close</th>\n",
       "      <th>volume</th>\n",
       "      <th>fluctuation</th>\n",
       "    </tr>\n",
       "  </thead>\n",
       "  <tbody>\n",
       "    <tr>\n",
       "      <th>high</th>\n",
       "      <td>1.000000</td>\n",
       "      <td>0.999926</td>\n",
       "      <td>0.999952</td>\n",
       "      <td>-0.012979</td>\n",
       "      <td>-0.294656</td>\n",
       "    </tr>\n",
       "    <tr>\n",
       "      <th>low</th>\n",
       "      <td>0.999926</td>\n",
       "      <td>1.000000</td>\n",
       "      <td>0.999954</td>\n",
       "      <td>-0.017104</td>\n",
       "      <td>-0.298477</td>\n",
       "    </tr>\n",
       "    <tr>\n",
       "      <th>close</th>\n",
       "      <td>0.999952</td>\n",
       "      <td>0.999954</td>\n",
       "      <td>1.000000</td>\n",
       "      <td>-0.014959</td>\n",
       "      <td>-0.296585</td>\n",
       "    </tr>\n",
       "    <tr>\n",
       "      <th>volume</th>\n",
       "      <td>-0.012979</td>\n",
       "      <td>-0.017104</td>\n",
       "      <td>-0.014959</td>\n",
       "      <td>1.000000</td>\n",
       "      <td>0.373579</td>\n",
       "    </tr>\n",
       "    <tr>\n",
       "      <th>fluctuation</th>\n",
       "      <td>-0.294656</td>\n",
       "      <td>-0.298477</td>\n",
       "      <td>-0.296585</td>\n",
       "      <td>0.373579</td>\n",
       "      <td>1.000000</td>\n",
       "    </tr>\n",
       "  </tbody>\n",
       "</table>\n",
       "</div>"
      ],
      "text/plain": [
       "                 high       low     close    volume  fluctuation\n",
       "high         1.000000  0.999926  0.999952 -0.012979    -0.294656\n",
       "low          0.999926  1.000000  0.999954 -0.017104    -0.298477\n",
       "close        0.999952  0.999954  1.000000 -0.014959    -0.296585\n",
       "volume      -0.012979 -0.017104 -0.014959  1.000000     0.373579\n",
       "fluctuation -0.294656 -0.298477 -0.296585  0.373579     1.000000"
      ]
     },
     "execution_count": 12,
     "metadata": {},
     "output_type": "execute_result"
    }
   ],
   "source": [
    "corr = aapl.corr(method='pearson')\n",
    "plt.scatter(aapl[\"fluctuation\"],aapl[\"volume\" ])\n",
    "plt.xlabel('fluctuation')\n",
    "plt.ylabel('volume')\n",
    "plt.show()\n",
    "corr"
   ]
  },
  {
   "cell_type": "markdown",
   "metadata": {},
   "source": [
    "YES, THERE APPEARS TO BE A POSITIVE CORRELATION BETWEEN \"fluctuation\" AND \"volume\" for Apple"
   ]
  },
  {
   "cell_type": "code",
   "execution_count": null,
   "metadata": {},
   "outputs": [],
   "source": []
  }
 ],
 "metadata": {
  "kernelspec": {
   "display_name": "Python 3",
   "language": "python",
   "name": "python3"
  },
  "language_info": {
   "codemirror_mode": {
    "name": "ipython",
    "version": 3
   },
   "file_extension": ".py",
   "mimetype": "text/x-python",
   "name": "python",
   "nbconvert_exporter": "python",
   "pygments_lexer": "ipython3",
   "version": "3.6.5"
  }
 },
 "nbformat": 4,
 "nbformat_minor": 2
}
